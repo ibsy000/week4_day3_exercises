{
 "cells": [
  {
   "cell_type": "markdown",
   "id": "ef430033",
   "metadata": {},
   "source": [
    "# Exercises"
   ]
  },
  {
   "cell_type": "markdown",
   "id": "94010ea8",
   "metadata": {},
   "source": [
    "### Exercise #1 <br>\n",
    "<p>Reverse the list below in-place using an in-place algorithm.<br>For extra credit: Reverse the strings at the same time.</p>"
   ]
  },
  {
   "cell_type": "code",
   "execution_count": 1,
   "id": "de8581dc",
   "metadata": {},
   "outputs": [
    {
     "data": {
      "text/plain": [
       "['.', 'ecnetnes', 'a', 'si', 'siht']"
      ]
     },
     "execution_count": 1,
     "metadata": {},
     "output_type": "execute_result"
    }
   ],
   "source": [
    "# strings are immutable so it would have to be sorted in reverse out of place\n",
    "\n",
    "words = ['this' , 'is', 'a', 'sentence', '.']\n",
    "\n",
    "reverse_words = []\n",
    "\n",
    "def reverse(words, ind1, ind2, ind3, ind4, ind5):\n",
    "    \n",
    "    for word in words:\n",
    "    \n",
    "        reverse_word = word[::-1]\n",
    "        reverse_words.append(reverse_word)\n",
    "        \n",
    "#     reverse_words[ind1], reverse_words[ind2], reverse_words[ind3], reverse_words[ind4], reverse_words[ind5] = reverse_words[ind5], reverse_words[ind4], reverse_words[ind3], reverse_words[ind2], reverse_words[ind1]\n",
    "    \n",
    "    reverse_words.reverse()\n",
    "    \n",
    "    return reverse_words\n",
    "    \n",
    "    \n",
    "\n",
    "reverse(words, 0, 1, 2, 3, 4)"
   ]
  },
  {
   "cell_type": "markdown",
   "id": "ab0dc803",
   "metadata": {},
   "source": [
    "### Exercise #2 <br>\n",
    "<p>Create a function that counts how many distinct words are in the string below, then outputs a dictionary with the words as the key and the value as the amount of times that word appears in the string.</p>\n",
    "Example Output:<code>{'in': 1, 'computing': 1, 'a': 5, ...}</code>"
   ]
  },
  {
   "cell_type": "code",
   "execution_count": 4,
   "id": "63f32367",
   "metadata": {},
   "outputs": [
    {
     "name": "stdout",
     "output_type": "stream",
     "text": [
      "Counter({'a': 5, 'hash': 4, 'an': 3, 'table': 2, 'map': 2, 'data': 2, 'structure': 2, 'which': 2, 'array': 2, 'can': 2, 'to': 2, 'in': 1, 'computing,': 1, 'is': 1, 'implements': 1, 'associative': 1, 'abstract': 1, 'type,': 1, 'that': 1, 'keys': 1, 'values.': 1, 'uses': 1, 'function': 1, 'compute': 1, 'index': 1, 'into': 1, 'of': 1, 'buckets': 1, 'or': 1, 'slots': 1, 'from': 1, 'the': 1, 'desired': 1, 'value': 1, 'be': 1, 'found': 1})\n"
     ]
    }
   ],
   "source": [
    "# count how many times each word appears in the string below\n",
    "# output a dictionary with the word as the key and the amount of times that word is in the string as the value\n",
    "\n",
    "from collections import Counter\n",
    "\n",
    "a_text = 'In computing, a hash table hash map is a data structure which implements an associative array abstract data type, a structure that can map keys to values. A hash table uses a hash function to compute an index into an array of buckets or slots from which the desired value can be found'\n",
    "\n",
    "count_text = a_text.lower().split()\n",
    "\n",
    "dict_text = Counter(count_text)\n",
    "\n",
    "print(dict_text)"
   ]
  },
  {
   "cell_type": "markdown",
   "id": "5cc2c42a",
   "metadata": {},
   "source": [
    "## Exercise #3\n",
    "\n",
    "Write a function implementing a Linear Search Algorithm. A linear search is a method for finding an element within a list. It sequentially checks each element of the list until a match is found or the whole list has been searched. If you do not find a match, return -1"
   ]
  },
  {
   "cell_type": "code",
   "execution_count": 3,
   "id": "83e53473",
   "metadata": {},
   "outputs": [
    {
     "data": {
      "text/plain": [
       "70"
      ]
     },
     "execution_count": 3,
     "metadata": {},
     "output_type": "execute_result"
    }
   ],
   "source": [
    "nums_list = [10,23,45,70,11,15]\n",
    "target = 70\n",
    "\n",
    "# If number is not present return -1\n",
    "def target_num(nums_list, target):\n",
    "    \n",
    "    for num in nums_list:\n",
    "        if num == target:\n",
    "            return num\n",
    "    return -1\n",
    "\n",
    "target_num(nums_list, target)"
   ]
  }
 ],
 "metadata": {
  "kernelspec": {
   "display_name": "Python 3 (ipykernel)",
   "language": "python",
   "name": "python3"
  },
  "language_info": {
   "codemirror_mode": {
    "name": "ipython",
    "version": 3
   },
   "file_extension": ".py",
   "mimetype": "text/x-python",
   "name": "python",
   "nbconvert_exporter": "python",
   "pygments_lexer": "ipython3",
   "version": "3.9.12"
  }
 },
 "nbformat": 4,
 "nbformat_minor": 5
}
